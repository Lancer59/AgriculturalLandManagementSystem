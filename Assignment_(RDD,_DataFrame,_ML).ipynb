{
  "nbformat": 4,
  "nbformat_minor": 0,
  "metadata": {
    "colab": {
      "provenance": [],
      "authorship_tag": "ABX9TyNcOljSZHq3px40bD6HsHGw",
      "include_colab_link": true
    },
    "kernelspec": {
      "name": "python3",
      "display_name": "Python 3"
    },
    "language_info": {
      "name": "python"
    }
  },
  "cells": [
    {
      "cell_type": "markdown",
      "metadata": {
        "id": "view-in-github",
        "colab_type": "text"
      },
      "source": [
        "<a href=\"https://colab.research.google.com/github/Lancer59/AgriculturalLandManagementSystem/blob/main/Assignment_(RDD%2C_DataFrame%2C_ML).ipynb\" target=\"_parent\"><img src=\"https://colab.research.google.com/assets/colab-badge.svg\" alt=\"Open In Colab\"/></a>"
      ]
    },
    {
      "cell_type": "markdown",
      "source": [
        "# **Question 1 on RDD**"
      ],
      "metadata": {
        "id": "dDRnhABpTA3P"
      }
    },
    {
      "cell_type": "code",
      "source": [
        "#store file as rdd.\n",
        "from pyspark import SparkContext\n",
        "sc=SparkContext.getOrCreate()\n",
        "rdd=sc.textFile('/content/lvl.txt')\n",
        "\n",
        "#Remove blankspaces.\n",
        "srdd=rdd.filter(lambda l:l.strip())\n",
        "\n",
        "#Split into words.\n",
        "wrdd=srdd.flatMap(lambda l:l.split(\" \"))\n",
        "\n",
        "#Remove stopwords.\n",
        "stopwords=[\"in\",\"on\",\"for\",\"the\",\"a\"]\n",
        "stpwrd=wrdd.filter(lambda w:w not in stopwords)\n",
        "\n",
        "\n",
        "#Remove punctuations.\n",
        "import string\n",
        "rrdd=stpwrd.map(lambda w:w.translate(str.maketrans('','',string.punctuation)))\n",
        "\n",
        "##(i) Word with highest number of occurrence.\n",
        "grdd=wrdd.groupBy(lambda w:w[:])\n",
        "mrdd=grdd.map(lambda x:(len(x[1]),x[0]))\n",
        "srdd=mrdd.sortByKey(False)\n",
        "hnw=srdd.take(2)[0][1]\n",
        "print(\"\\n(i) The word with highest number of occurrence = \"+str(hnw))\n",
        "\n",
        "##(ii) Character with highest number of occurrence.\n",
        "grdd=wrdd.groupBy(lambda w:w[0:1])\n",
        "mrdd=grdd.map(lambda x:(len(x[1]),x[0]))\n",
        "srdd=mrdd.sortByKey(False)\n",
        "hnc=srdd.take(2)[0][1]\n",
        "print(\"\\n(ii) The character with highest number of occurrence = \"+str(hnc))\n",
        "\n",
        "##(iii) Compute occurrence of any given word accepted from keyboard.\n",
        "we=input(\"\\n(iii) Enter the word of whose occurrence must be returned: \")\n",
        "grdd=wrdd.groupBy(lambda w:w[:])\n",
        "mrdd=grdd.map(lambda x:(len(x[1]),x[0]))\n",
        "swrdd=mrdd.filter(lambda w:w[1] == we)\n",
        "wno=swrdd.take(1)[0][0]\n",
        "print(\"      The occurrence of the entered word is = \"+str(wno))\n",
        "\n",
        "##(iv) Line sorted in descending order of number of words they contain.\n",
        "mrdd=rdd.map(lambda x:(len(x.split(\" \")),x))\n",
        "srdd=mrdd.sortByKey(False)\n",
        "wind=list(srdd.take(srdd.count()))\n",
        "print(\"\\n(iv) The Lines sorted in descending order of number of words they contain: \\n\")\n",
        "for i in wind:\n",
        "  print(i[1])\n",
        "\n",
        "##(v) Take 80% sample twice and perform intersection between them and check number of lines common.\n",
        "srdd1=rrdd.sample(False, 0.8, 10)\n",
        "srdd2=rrdd.sample(False, 0.8, 90)\n",
        "isample=srdd1.intersection(srdd2)\n",
        "print(\"\\n (v)\")\n",
        "print(\" The number of lines in sample 1: \"+str(srdd1.count()))\n",
        "print(\" The number of lines in sample 2: \"+str(srdd2.count()))\n",
        "print(\" The number of lnes which is common: \"+str(isample.count()))\n",
        "\n",
        "\n",
        "\n",
        "\n",
        "\n",
        "\n",
        "\n",
        "\n"
      ],
      "metadata": {
        "colab": {
          "base_uri": "https://localhost:8080/"
        },
        "id": "UrWYwLalTYet",
        "outputId": "cde8cd3e-aa94-4876-d63e-8bbfd04f94b6"
      },
      "execution_count": 61,
      "outputs": [
        {
          "output_type": "stream",
          "name": "stdout",
          "text": [
            "\n",
            "(i) The word with highest number of occurrence = I\n",
            "\n",
            "(ii) The character with highest number of occurrence = a\n",
            "\n",
            "(iii) Enter the word of whose occurrence must be returned: the\n",
            "      The occurrence of the entered word is = 16\n",
            "\n",
            "(iv) The Lines sorted in descending order of number of words they contain: \n",
            "\n",
            "I love you so much and I am so glad I met you. You are the one I have been waiting for all of my life. The little things, like making sure to let me know when I look beautiful and holding my hand whenever you can, makes me feel so loved. You are the love of my life. Without you I am incomplete. I love you more than any woman I have ever met or ever will meet in the future. You are amazing\n",
            "Every time I look at you, my heart skips a beat. When I feel your hugs, my strength becomes tenfold. I cannot imagine a day without you — and am certain I don’t want to know what that feels like… I love you more than words can even say; you are the light of my life, my soulmate, and my best friend.\n",
            "You are the love of my life; you are my world. I would do anything to make you happy. I want to see your beautiful smile every moment of every day. You bring me joy and happiness, and I promise to give you all of mine. You mean the world to me, and I will forever love you.\n",
            "I love you and have never been so sure of anything in my life. I could get lost in your eyes forever. Whenever I look into them they make me melt, I smile and laugh every time you kiss my neck. Your lips fit with mine perfectly like two pieces of a puzzle coming together.\n",
            "So I guess what I’m trying to say is that I love you. So much. You mean the world to me and I wouldn’t trade you for anything. You are my heart, my soul, and in a million years there will never be anyone else for me but you.\n",
            "It only grew stronger by the day. But as always I didn’t listen to the world, the people around me. If only we could have been brave enough and stuck together. So this is what it means to be without you all these years…\n",
            "You look so fine, your skin so soft. I love seeing you every day. I get butterflies in my stomach anytime we’re this close. I’ve liked you for a while — you’re the one I want to be with forever and ever.\n",
            "You are my everything. I love you more than anything in the world and am so lucky to have you by my side. You mean the world to me and I hope to spend every day making you happy!\n",
            "I think it’s going pretty well. I don’t know of any couples that don’t run into their share of issues along the way, but as far as I can tell, we do ok.\n",
            "Love is a word that shouldn’t be introduced when I am around you because it’s just not needed. It is so apparent that we are meant to be, it’s almost obnoxiously obvious.\n",
            "Every single day, I fall even more in love with you. Your smile melts my heart and your eyes send so many different emotions through me. I can’t imagine life without you.\n",
            "We’ve only been together four months and I already know you are the one. You bring so much happiness into my life, I can’t imagine being without you! I love you!\n",
            "I’d like to share with you what my life was like before I met you. It was boring, old, and meaningless. But now it’s spectacular, new, and meaningful. I LOVE YOU!\n",
            "I love you so much that I would even go as far as lip glossing one of your bras! And someday, if you’re lucky, maybe I’ll even wear it.\n",
            "I hope time and erase everything that you’re feeling bad about. I love to be around you because you are so beautiful! trust me, I am telling the truth.\n",
            "I love you. I’m not saying it because you want me to, or because I have to, or because it’s Valentines day, but because it’s true.\n",
            "Let’s make our relationship status official in case there are any holdouts. We’re dating an\n",
            "\n",
            "\n",
            "\n",
            " (v)\n",
            " The number of lines in sample 1: 532\n",
            " The number of lines in sample 2: 531\n",
            " The number of lnes which is common: 207\n"
          ]
        }
      ]
    },
    {
      "cell_type": "markdown",
      "source": [
        "# **Question 2 on DataFrames**"
      ],
      "metadata": {
        "id": "Xc3XXTRA1fX9"
      }
    },
    {
      "cell_type": "code",
      "source": [],
      "metadata": {
        "id": "f85AITkb1qDi"
      },
      "execution_count": null,
      "outputs": []
    }
  ]
}